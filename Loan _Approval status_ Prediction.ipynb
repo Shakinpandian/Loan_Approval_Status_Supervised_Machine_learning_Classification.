{
 "cells": [
  {
   "cell_type": "markdown",
   "id": "de471850",
   "metadata": {},
   "source": [
    "   # Loan Prediction  Using Supervised Machine Learning- Classification"
   ]
  },
  {
   "attachments": {
    "images.jpeg": {
     "image/jpeg": "[encoded data removed]"
    }
   },
   "cell_type": "markdown",
   "id": "4d586af2",
   "metadata": {},
   "source": [
    "   ![images.jpeg](attachment:images.jpeg)"
   ]
  },
  {
   "cell_type": "markdown",
   "id": "f25d6395",
   "metadata": {},
   "source": [
    "# 1) Problem Statement:-\n",
    "Dream Housing Finance company deals in all kinds of home loans. They have presence across all urban, semi urban and rural areas. Customer first applies for home loan and after that company validates the customer eligibility for loan.\n",
    "\n",
    "**Company wants to automate the loan eligibility process (real time) based on customer detail** provided while filling online application form. These details are Gender, Marital Status, Education, Number of Dependents, Income, Loan Amount, Credit History and others. To automate this process, they have provided a dataset to identify the customers segments that are eligible for loan amount so that they can specifically target these customers. "
   ]
  },
  {
   "cell_type": "markdown",
   "id": "bc7b8117",
   "metadata": {},
   "source": [
    "# 2) Installing and importing packages"
   ]
  },
  {
   "cell_type": "code",
   "execution_count": 1,
   "id": "4dec6a18",
   "metadata": {},
   "outputs": [],
   "source": [
    "#------------------------------------------------------------------------------------------------------------------------------\n",
    "import pandas as pd                                                    # Importing for data analysis\n",
    "#------------------------------------------------------------------------------------------------------------------------------\n",
    "import seaborn as sns                                                  # Importing for data visualization\n",
    "import matplotlib.pyplot as plt \n",
    "import plotly.express as ex                                            # Importing Plotly Express for Dynamic Plotting\n",
    "import plotly.graph_objs as go                                         # Importing Plotly graphs for Dynamic Plotting\n",
    "#------------------------------------------------------------------------------------------------------------------------------\n",
    "import numpy as np                                                     # Importing numpy package(for Numberical Python )\n",
    "#------------------------------------------------------------------------------------------------------------------------------\n",
    "import warnings                                                        #Importing warning to disable runtime warnings\n",
    "warnings.filterwarnings(\"ignore\")                                      # Warnings will appear only once\n",
    "#------------------------------------------------------------------------------------------------------------------------------\n",
    "from sklearn import preprocessing                                      # Calling preprocessing for preprocessing of data\n",
    "from sklearn.preprocessing import StandardScaler                       # Calling standardscaler for standerdization\n",
    "from sklearn.preprocessing import MinMaxScaler,LabelEncoder            # Calling MinMaxScaler,LabelEncoder for Encoder\n",
    "#------------------------------------------------------------------------------------------------------------------------------\n",
    "from sklearn import metrics                                            # Calling the metrics for calculating performence metrics\n",
    "from sklearn.metrics import accuracy_score                            # Importing accuracy_score\n",
    "#-----------------------------------------------------------------------------------------------------------------------------\n",
    "from sklearn.model_selection import train_test_split                   # Calling train_test_split for splitinng the dataset \n",
    "from sklearn.model_selection import RandomizedSearchCV                 # Calling RandomizedSearchCV for tuning the model\n",
    "from sklearn.model_selection import cross_val_score                    # Importing cross_val_score  \n",
    "from sklearn.model_selection import GridSearchCV                       # Importing GridsearchCV\n",
    "#-----------------------------------------------------------------------------------------------------------------------------"
   ]
  },
  {
   "cell_type": "markdown",
   "id": "e8e10fdd",
   "metadata": {},
   "source": [
    "# 3) Loading Data"
   ]
  },
  {
   "cell_type": "code",
   "execution_count": 44,
   "id": "cd0f462d",
   "metadata": {},
   "outputs": [],
   "source": [
    "test_datas=Final_datas=pd.read_csv(\"Test_work.csv\")"
   ]
  },
  {
   "cell_type": "code",
   "execution_count": 3,
   "id": "f25196a0",
   "metadata": {},
   "outputs": [],
   "source": [
    "Training_data=pd.read_csv(\"train_ctrUa4K.csv\")"
   ]
  },
  {
   "cell_type": "code",
   "execution_count": 4,
   "id": "9ddf3d10",
   "metadata": {},
   "outputs": [
    {
     "data": {
      "text/html": [
       "<div>\n",
       "<style scoped>\n",
       "    .dataframe tbody tr th:only-of-type {\n",
       "        vertical-align: middle;\n",
       "    }\n",
       "\n",
       "    .dataframe tbody tr th {\n",
       "        vertical-align: top;\n",
       "    }\n",
       "\n",
       "    .dataframe thead th {\n",
       "        text-align: right;\n",
       "    }\n",
       "</style>\n",
       "<table border=\"1\" class=\"dataframe\">\n",
       "  <thead>\n",
       "    <tr style=\"text-align: right;\">\n",
       "      <th></th>\n",
       "      <th>Loan_ID</th>\n",
       "      <th>Gender</th>\n",
       "      <th>Married</th>\n",
       "      <th>Dependents</th>\n",
       "      <th>Education</th>\n",
       "      <th>Self_Employed</th>\n",
       "      <th>ApplicantIncome</th>\n",
       "      <th>CoapplicantIncome</th>\n",
       "      <th>LoanAmount</th>\n",
       "      <th>Loan_Amount_Term</th>\n",
       "      <th>Credit_History</th>\n",
       "      <th>Property_Area</th>\n",
       "      <th>Loan_Status</th>\n",
       "    </tr>\n",
       "  </thead>\n",
       "  <tbody>\n",
       "    <tr>\n",
       "      <th>0</th>\n",
       "      <td>LP001002</td>\n",
       "      <td>Male</td>\n",
       "      <td>No</td>\n",
       "      <td>0.0</td>\n",
       "      <td>Graduate</td>\n",
       "      <td>No</td>\n",
       "      <td>5849</td>\n",
       "      <td>0.0</td>\n",
       "      <td>NaN</td>\n",
       "      <td>360.0</td>\n",
       "      <td>1.0</td>\n",
       "      <td>Urban</td>\n",
       "      <td>Y</td>\n",
       "    </tr>\n",
       "    <tr>\n",
       "      <th>1</th>\n",
       "      <td>LP001003</td>\n",
       "      <td>Male</td>\n",
       "      <td>Yes</td>\n",
       "      <td>1.0</td>\n",
       "      <td>Graduate</td>\n",
       "      <td>No</td>\n",
       "      <td>4583</td>\n",
       "      <td>1508.0</td>\n",
       "      <td>128.0</td>\n",
       "      <td>360.0</td>\n",
       "      <td>1.0</td>\n",
       "      <td>Rural</td>\n",
       "      <td>N</td>\n",
       "    </tr>\n",
       "    <tr>\n",
       "      <th>2</th>\n",
       "      <td>LP001005</td>\n",
       "      <td>Male</td>\n",
       "      <td>Yes</td>\n",
       "      <td>0.0</td>\n",
       "      <td>Graduate</td>\n",
       "      <td>Yes</td>\n",
       "      <td>3000</td>\n",
       "      <td>0.0</td>\n",
       "      <td>66.0</td>\n",
       "      <td>360.0</td>\n",
       "      <td>1.0</td>\n",
       "      <td>Urban</td>\n",
       "      <td>Y</td>\n",
       "    </tr>\n",
       "    <tr>\n",
       "      <th>3</th>\n",
       "      <td>LP001006</td>\n",
       "      <td>Male</td>\n",
       "      <td>Yes</td>\n",
       "      <td>0.0</td>\n",
       "      <td>Not Graduate</td>\n",
       "      <td>No</td>\n",
       "      <td>2583</td>\n",
       "      <td>2358.0</td>\n",
       "      <td>120.0</td>\n",
       "      <td>360.0</td>\n",
       "      <td>1.0</td>\n",
       "      <td>Urban</td>\n",
       "      <td>Y</td>\n",
       "    </tr>\n",
       "    <tr>\n",
       "      <th>4</th>\n",
       "      <td>LP001008</td>\n",
       "      <td>Male</td>\n",
       "      <td>No</td>\n",
       "      <td>0.0</td>\n",
       "      <td>Graduate</td>\n",
       "      <td>No</td>\n",
       "      <td>6000</td>\n",
       "      <td>0.0</td>\n",
       "      <td>141.0</td>\n",
       "      <td>360.0</td>\n",
       "      <td>1.0</td>\n",
       "      <td>Urban</td>\n",
       "      <td>Y</td>\n",
       "    </tr>\n",
       "  </tbody>\n",
       "</table>\n",
       "</div>"
      ],
      "text/plain": [
       "    Loan_ID Gender Married  Dependents     Education Self_Employed  \\\n",
       "0  LP001002   Male      No         0.0      Graduate            No   \n",
       "1  LP001003   Male     Yes         1.0      Graduate            No   \n",
       "2  LP001005   Male     Yes         0.0      Graduate           Yes   \n",
       "3  LP001006   Male     Yes         0.0  Not Graduate            No   \n",
       "4  LP001008   Male      No         0.0      Graduate            No   \n",
       "\n",
       "   ApplicantIncome  CoapplicantIncome  LoanAmount  Loan_Amount_Term  \\\n",
       "0             5849                0.0         NaN             360.0   \n",
       "1             4583             1508.0       128.0             360.0   \n",
       "2             3000                0.0        66.0             360.0   \n",
       "3             2583             2358.0       120.0             360.0   \n",
       "4             6000                0.0       141.0             360.0   \n",
       "\n",
       "   Credit_History Property_Area Loan_Status  \n",
       "0             1.0         Urban           Y  \n",
       "1             1.0         Rural           N  \n",
       "2             1.0         Urban           Y  \n",
       "3             1.0         Urban           Y  \n",
       "4             1.0         Urban           Y  "
      ]
     },
     "execution_count": 4,
     "metadata": {},
     "output_type": "execute_result"
    }
   ],
   "source": [
    "Training_data.head()"
   ]
  },
  {
   "cell_type": "markdown",
   "id": "ec933005",
   "metadata": {},
   "source": [
    "# 4) Data Acquistititon and Description"
   ]
  },
  {
   "cell_type": "code",
   "execution_count": 5,
   "id": "aaf5a9a6",
   "metadata": {},
   "outputs": [
    {
     "data": {
      "text/html": [
       "<div>\n",
       "<style scoped>\n",
       "    .dataframe tbody tr th:only-of-type {\n",
       "        vertical-align: middle;\n",
       "    }\n",
       "\n",
       "    .dataframe tbody tr th {\n",
       "        vertical-align: top;\n",
       "    }\n",
       "\n",
       "    .dataframe thead th {\n",
       "        text-align: right;\n",
       "    }\n",
       "</style>\n",
       "<table border=\"1\" class=\"dataframe\">\n",
       "  <thead>\n",
       "    <tr style=\"text-align: right;\">\n",
       "      <th></th>\n",
       "      <th>Dependents</th>\n",
       "      <th>ApplicantIncome</th>\n",
       "      <th>CoapplicantIncome</th>\n",
       "      <th>LoanAmount</th>\n",
       "      <th>Loan_Amount_Term</th>\n",
       "      <th>Credit_History</th>\n",
       "    </tr>\n",
       "  </thead>\n",
       "  <tbody>\n",
       "    <tr>\n",
       "      <th>count</th>\n",
       "      <td>599.000000</td>\n",
       "      <td>614.000000</td>\n",
       "      <td>614.000000</td>\n",
       "      <td>592.000000</td>\n",
       "      <td>600.00000</td>\n",
       "      <td>564.000000</td>\n",
       "    </tr>\n",
       "    <tr>\n",
       "      <th>mean</th>\n",
       "      <td>0.762938</td>\n",
       "      <td>5403.459283</td>\n",
       "      <td>1621.245798</td>\n",
       "      <td>146.412162</td>\n",
       "      <td>342.00000</td>\n",
       "      <td>0.842199</td>\n",
       "    </tr>\n",
       "    <tr>\n",
       "      <th>std</th>\n",
       "      <td>1.015216</td>\n",
       "      <td>6109.041673</td>\n",
       "      <td>2926.248369</td>\n",
       "      <td>85.587325</td>\n",
       "      <td>65.12041</td>\n",
       "      <td>0.364878</td>\n",
       "    </tr>\n",
       "    <tr>\n",
       "      <th>min</th>\n",
       "      <td>0.000000</td>\n",
       "      <td>150.000000</td>\n",
       "      <td>0.000000</td>\n",
       "      <td>9.000000</td>\n",
       "      <td>12.00000</td>\n",
       "      <td>0.000000</td>\n",
       "    </tr>\n",
       "    <tr>\n",
       "      <th>25%</th>\n",
       "      <td>0.000000</td>\n",
       "      <td>2877.500000</td>\n",
       "      <td>0.000000</td>\n",
       "      <td>100.000000</td>\n",
       "      <td>360.00000</td>\n",
       "      <td>1.000000</td>\n",
       "    </tr>\n",
       "    <tr>\n",
       "      <th>50%</th>\n",
       "      <td>0.000000</td>\n",
       "      <td>3812.500000</td>\n",
       "      <td>1188.500000</td>\n",
       "      <td>128.000000</td>\n",
       "      <td>360.00000</td>\n",
       "      <td>1.000000</td>\n",
       "    </tr>\n",
       "    <tr>\n",
       "      <th>75%</th>\n",
       "      <td>2.000000</td>\n",
       "      <td>5795.000000</td>\n",
       "      <td>2297.250000</td>\n",
       "      <td>168.000000</td>\n",
       "      <td>360.00000</td>\n",
       "      <td>1.000000</td>\n",
       "    </tr>\n",
       "    <tr>\n",
       "      <th>max</th>\n",
       "      <td>3.000000</td>\n",
       "      <td>81000.000000</td>\n",
       "      <td>41667.000000</td>\n",
       "      <td>700.000000</td>\n",
       "      <td>480.00000</td>\n",
       "      <td>1.000000</td>\n",
       "    </tr>\n",
       "  </tbody>\n",
       "</table>\n",
       "</div>"
      ],
      "text/plain": [
       "       Dependents  ApplicantIncome  CoapplicantIncome  LoanAmount  \\\n",
       "count  599.000000       614.000000         614.000000  592.000000   \n",
       "mean     0.762938      5403.459283        1621.245798  146.412162   \n",
       "std      1.015216      6109.041673        2926.248369   85.587325   \n",
       "min      0.000000       150.000000           0.000000    9.000000   \n",
       "25%      0.000000      2877.500000           0.000000  100.000000   \n",
       "50%      0.000000      3812.500000        1188.500000  128.000000   \n",
       "75%      2.000000      5795.000000        2297.250000  168.000000   \n",
       "max      3.000000     81000.000000       41667.000000  700.000000   \n",
       "\n",
       "       Loan_Amount_Term  Credit_History  \n",
       "count         600.00000      564.000000  \n",
       "mean          342.00000        0.842199  \n",
       "std            65.12041        0.364878  \n",
       "min            12.00000        0.000000  \n",
       "25%           360.00000        1.000000  \n",
       "50%           360.00000        1.000000  \n",
       "75%           360.00000        1.000000  \n",
       "max           480.00000        1.000000  "
      ]
     },
     "execution_count": 5,
     "metadata": {},
     "output_type": "execute_result"
    }
   ],
   "source": [
    "Training_data.describe()"
   ]
  },
  {
   "cell_type": "markdown",
   "id": "66482611",
   "metadata": {},
   "source": [
    "### Observation:-\n",
    "- The train_data illustrates that the average Loan_Amount_term and Loan amount are **324** and **146.42**.\n"
   ]
  },
  {
   "cell_type": "code",
   "execution_count": 6,
   "id": "46588c36",
   "metadata": {},
   "outputs": [
    {
     "name": "stdout",
     "output_type": "stream",
     "text": [
      "<class 'pandas.core.frame.DataFrame'>\n",
      "RangeIndex: 614 entries, 0 to 613\n",
      "Data columns (total 13 columns):\n",
      " #   Column             Non-Null Count  Dtype  \n",
      "---  ------             --------------  -----  \n",
      " 0   Loan_ID            614 non-null    object \n",
      " 1   Gender             601 non-null    object \n",
      " 2   Married            611 non-null    object \n",
      " 3   Dependents         599 non-null    float64\n",
      " 4   Education          614 non-null    object \n",
      " 5   Self_Employed      582 non-null    object \n",
      " 6   ApplicantIncome    614 non-null    int64  \n",
      " 7   CoapplicantIncome  614 non-null    float64\n",
      " 8   LoanAmount         592 non-null    float64\n",
      " 9   Loan_Amount_Term   600 non-null    float64\n",
      " 10  Credit_History     564 non-null    float64\n",
      " 11  Property_Area      614 non-null    object \n",
      " 12  Loan_Status        614 non-null    object \n",
      "dtypes: float64(5), int64(1), object(7)\n",
      "memory usage: 62.5+ KB\n"
     ]
    }
   ],
   "source": [
    "Training_data.info()"
   ]
  },
  {
   "cell_type": "markdown",
   "id": "774114c2",
   "metadata": {},
   "source": [
    "- Total **6** Numercial datatypes and **7** categorical datatypes are present."
   ]
  },
  {
   "cell_type": "markdown",
   "id": "4494cf3d",
   "metadata": {},
   "source": [
    "# 6. Data wrangling"
   ]
  },
  {
   "cell_type": "markdown",
   "id": "e424ac6b",
   "metadata": {},
   "source": [
    "### 6.1) Data Cleaning:-\n",
    "In this section, we will clean out our data based on the information retrieved from the previous observations.\n",
    "\n",
    "Hence, we will have to perform the following subtasks\n",
    "\n",
    "- Checking for **missing values** and manipulating them\n",
    "\n",
    "- Checking the **datatypes**\n",
    "\n",
    "- Checking of the **Spelling Correction**"
   ]
  },
  {
   "cell_type": "code",
   "execution_count": 7,
   "id": "a7a6e7c1",
   "metadata": {},
   "outputs": [
    {
     "data": {
      "text/plain": [
       "Loan_ID               0\n",
       "Gender               13\n",
       "Married               3\n",
       "Dependents           15\n",
       "Education             0\n",
       "Self_Employed        32\n",
       "ApplicantIncome       0\n",
       "CoapplicantIncome     0\n",
       "LoanAmount           22\n",
       "Loan_Amount_Term     14\n",
       "Credit_History       50\n",
       "Property_Area         0\n",
       "Loan_Status           0\n",
       "dtype: int64"
      ]
     },
     "execution_count": 7,
     "metadata": {},
     "output_type": "execute_result"
    }
   ],
   "source": [
    "Training_data.isnull().sum()"
   ]
  },
  {
   "cell_type": "code",
   "execution_count": 8,
   "id": "19ba312e",
   "metadata": {},
   "outputs": [
    {
     "data": {
      "text/plain": [
       "614"
      ]
     },
     "execution_count": 8,
     "metadata": {},
     "output_type": "execute_result"
    }
   ],
   "source": [
    "Training_data.shape[0]"
   ]
  },
  {
   "cell_type": "code",
   "execution_count": 9,
   "id": "e678e234",
   "metadata": {},
   "outputs": [
    {
     "data": {
      "text/plain": [
       "13"
      ]
     },
     "execution_count": 9,
     "metadata": {},
     "output_type": "execute_result"
    }
   ],
   "source": [
    "Training_data[\"Gender\"].isnull().sum()"
   ]
  },
  {
   "cell_type": "code",
   "execution_count": 10,
   "id": "9624fd86",
   "metadata": {},
   "outputs": [
    {
     "name": "stdout",
     "output_type": "stream",
     "text": [
      "The percentage of missing data in Gender 2.12%\n",
      "The percentage of missing data in Married 0.49%\n",
      "The percentage of missing data in Dependents 2.44%\n",
      "The percentage of missing data in Self_Employed 5.21%\n",
      "The percentage of missing data in LoanAmount 3.58%\n",
      "The percentage of missing data in Loan_Amount_Term 2.28%\n",
      "The percentage of missing data in Credit_History  8.14%\n"
     ]
    }
   ],
   "source": [
    "print(\"The percentage of missing data in Gender %.2f%%\"%((Training_data[\"Gender\"].isnull().sum()/Training_data.shape[0])*100))\n",
    "print(\"The percentage of missing data in Married %.2f%%\"%((Training_data[\"Married\"].isnull().sum()/Training_data.shape[0])*100))\n",
    "print(\"The percentage of missing data in Dependents %.2f%%\"%((Training_data[\"Dependents\"].isnull().sum()/Training_data.shape[0])*100))\n",
    "print(\"The percentage of missing data in Self_Employed %.2f%%\"%((Training_data[\"Self_Employed\"].isnull().sum()/Training_data.shape[0])*100))\n",
    "print(\"The percentage of missing data in LoanAmount %.2f%%\"%((Training_data[\"LoanAmount\"].isnull().sum()/Training_data.shape[0])*100))\n",
    "print(\"The percentage of missing data in Loan_Amount_Term %.2f%%\"%((Training_data[\"Loan_Amount_Term\"].isnull().sum()/Training_data.shape[0])*100))\n",
    "print(\"The percentage of missing data in Credit_History  %.2f%%\"%((Training_data[\"Credit_History\"].isnull().sum()/Training_data.shape[0])*100))"
   ]
  },
  {
   "cell_type": "markdown",
   "id": "f52ca23c",
   "metadata": {},
   "source": [
    "### Observation:-\n",
    "- Almost every feature has 3% of the missing value."
   ]
  },
  {
   "cell_type": "markdown",
   "id": "acbffd4d",
   "metadata": {},
   "source": [
    "# 5) Exploratory Data Analysis\n",
    "EDA is applied to investigate the data and **summarize the key insights**. It will give you the basic understanding of your data, it's distribution, null values and much more. You can either explore data using graphs or through some python functions."
   ]
  },
  {
   "cell_type": "markdown",
   "id": "5f89f563",
   "metadata": {},
   "source": [
    "### 5.1) Univariate Analysis\n",
    "Univariate analysis is the analysis of one variable at a time."
   ]
  },
  {
   "cell_type": "code",
   "execution_count": 11,
   "id": "21723944",
   "metadata": {},
   "outputs": [],
   "source": [
    "# Insight plot of catrgorical features in Train data \n",
    "Training_data.drop([\"Loan_ID\"],inplace=True,axis=1)"
   ]
  },
  {
   "cell_type": "code",
   "execution_count": 12,
   "id": "24e4b6ea",
   "metadata": {},
   "outputs": [
    {
     "data": {
      "text/plain": [
       "Gender                object\n",
       "Married               object\n",
       "Dependents           float64\n",
       "Education             object\n",
       "Self_Employed         object\n",
       "ApplicantIncome        int64\n",
       "CoapplicantIncome    float64\n",
       "LoanAmount           float64\n",
       "Loan_Amount_Term     float64\n",
       "Credit_History       float64\n",
       "Property_Area         object\n",
       "Loan_Status           object\n",
       "dtype: object"
      ]
     },
     "execution_count": 12,
     "metadata": {},
     "output_type": "execute_result"
    }
   ],
   "source": [
    "Type=Training_data.dtypes\n",
    "Type"
   ]
  },
  {
   "cell_type": "code",
   "execution_count": 13,
   "id": "913c043b",
   "metadata": {},
   "outputs": [
    {
     "data": {
      "image/png": "[encoded data removed]",
      "text/plain": [
       "<Figure size 360x180 with 1 Axes>"
      ]
     },
     "metadata": {
      "needs_background": "light"
     },
     "output_type": "display_data"
    },
    {
     "data": {
      "image/png": "[encoded data removed]",
      "text/plain": [
       "<Figure size 360x180 with 1 Axes>"
      ]
     },
     "metadata": {
      "needs_background": "light"
     },
     "output_type": "display_data"
    },
    {
     "data": {
      "image/png": "[encoded data removed]",
      "text/plain": [
       "<Figure size 360x180 with 1 Axes>"
      ]
     },
     "metadata": {
      "needs_background": "light"
     },
     "output_type": "display_data"
    },
    {
     "data": {
      "image/png": "[encoded data removed]",
      "text/plain": [
       "<Figure size 360x180 with 1 Axes>"
      ]
     },
     "metadata": {
      "needs_background": "light"
     },
     "output_type": "display_data"
    },
    {
     "data": {
      "image/png": "[encoded data removed]",
      "text/plain": [
       "<Figure size 360x180 with 1 Axes>"
      ]
     },
     "metadata": {
      "needs_background": "light"
     },
     "output_type": "display_data"
    },
    {
     "data": {
      "image/png": "[encoded data removed]",
      "text/plain": [
       "<Figure size 360x180 with 1 Axes>"
      ]
     },
     "metadata": {
      "needs_background": "light"
     },
     "output_type": "display_data"
    }
   ],
   "source": [
    "for d in Training_data.columns:\n",
    "    if Type[d]==\"object\":\n",
    "        plt.figure(figsize=(5,2.5))\n",
    "        sns.countplot(Training_data[d])\n",
    "        plt.xlabel([d])"
   ]
  },
  {
   "cell_type": "markdown",
   "id": "f1f04c61",
   "metadata": {},
   "source": [
    "### Observation:-\n",
    "- Semiurban has the most property area from the given data.\n",
    "- The contribution of men is higher than the female.Likewise, married person has the highest contribution than unmarried. "
   ]
  },
  {
   "cell_type": "markdown",
   "id": "098c8f46",
   "metadata": {},
   "source": [
    "### 5.2 Bivariant Analysis\n",
    "- Bivariant Analysis contain a indepented variable more than one."
   ]
  },
  {
   "cell_type": "code",
   "execution_count": 14,
   "id": "70c7a46f",
   "metadata": {},
   "outputs": [
    {
     "data": {
      "text/plain": [
       "<AxesSubplot:>"
      ]
     },
     "execution_count": 14,
     "metadata": {},
     "output_type": "execute_result"
    },
    {
     "data": {
      "image/png": "[encoded data removed]",
      "text/plain": [
       "<Figure size 864x360 with 2 Axes>"
      ]
     },
     "metadata": {
      "needs_background": "light"
     },
     "output_type": "display_data"
    }
   ],
   "source": [
    "plt.figure(figsize=(12,5))\n",
    "sns.heatmap(Training_data.corr(),annot=True)"
   ]
  },
  {
   "cell_type": "markdown",
   "id": "f98010b1",
   "metadata": {},
   "source": [
    "### Observation:-\n",
    "- Above diagram show the correlated relationship of the trained data. "
   ]
  },
  {
   "cell_type": "markdown",
   "id": "b4d5f5da",
   "metadata": {},
   "source": [
    "# 6) Data preprocessing:-\n",
    "**Encoding Categorical Features:**\n",
    "Encoding categorical data is a process of converting categorical data into integer format so that the data with converted categorical values can be provided to the different models."
   ]
  },
  {
   "cell_type": "code",
   "execution_count": 15,
   "id": "de5d0d0c",
   "metadata": {},
   "outputs": [
    {
     "data": {
      "text/plain": [
       "Gender                object\n",
       "Married               object\n",
       "Dependents           float64\n",
       "Education             object\n",
       "Self_Employed         object\n",
       "ApplicantIncome        int64\n",
       "CoapplicantIncome    float64\n",
       "LoanAmount           float64\n",
       "Loan_Amount_Term     float64\n",
       "Credit_History       float64\n",
       "Property_Area         object\n",
       "Loan_Status           object\n",
       "dtype: object"
      ]
     },
     "execution_count": 15,
     "metadata": {},
     "output_type": "execute_result"
    }
   ],
   "source": [
    "Type=Training_data.dtypes\n",
    "Type"
   ]
  },
  {
   "cell_type": "code",
   "execution_count": 16,
   "id": "a7c764d0",
   "metadata": {},
   "outputs": [],
   "source": [
    "from sklearn.preprocessing import LabelEncoder\n",
    "Label=LabelEncoder()\n",
    "gm=[\"Gender\",\"Married\",\"Education\",\"Self_Employed\",\"Property_Area\"]"
   ]
  },
  {
   "cell_type": "code",
   "execution_count": 17,
   "id": "f0d0a2f7",
   "metadata": {},
   "outputs": [],
   "source": [
    "for i in gm:\n",
    "    Training_data[i]=Label.fit_transform(Training_data[i])\n",
    "              "
   ]
  },
  {
   "cell_type": "code",
   "execution_count": 18,
   "id": "f56259e9",
   "metadata": {},
   "outputs": [
    {
     "data": {
      "text/html": [
       "<div>\n",
       "<style scoped>\n",
       "    .dataframe tbody tr th:only-of-type {\n",
       "        vertical-align: middle;\n",
       "    }\n",
       "\n",
       "    .dataframe tbody tr th {\n",
       "        vertical-align: top;\n",
       "    }\n",
       "\n",
       "    .dataframe thead th {\n",
       "        text-align: right;\n",
       "    }\n",
       "</style>\n",
       "<table border=\"1\" class=\"dataframe\">\n",
       "  <thead>\n",
       "    <tr style=\"text-align: right;\">\n",
       "      <th></th>\n",
       "      <th>Gender</th>\n",
       "      <th>Married</th>\n",
       "      <th>Dependents</th>\n",
       "      <th>Education</th>\n",
       "      <th>Self_Employed</th>\n",
       "      <th>ApplicantIncome</th>\n",
       "      <th>CoapplicantIncome</th>\n",
       "      <th>LoanAmount</th>\n",
       "      <th>Loan_Amount_Term</th>\n",
       "      <th>Credit_History</th>\n",
       "      <th>Property_Area</th>\n",
       "      <th>Loan_Status</th>\n",
       "    </tr>\n",
       "  </thead>\n",
       "  <tbody>\n",
       "    <tr>\n",
       "      <th>0</th>\n",
       "      <td>1</td>\n",
       "      <td>0</td>\n",
       "      <td>0.0</td>\n",
       "      <td>0</td>\n",
       "      <td>0</td>\n",
       "      <td>5849</td>\n",
       "      <td>0.0</td>\n",
       "      <td>NaN</td>\n",
       "      <td>360.0</td>\n",
       "      <td>1.0</td>\n",
       "      <td>2</td>\n",
       "      <td>Y</td>\n",
       "    </tr>\n",
       "    <tr>\n",
       "      <th>1</th>\n",
       "      <td>1</td>\n",
       "      <td>1</td>\n",
       "      <td>1.0</td>\n",
       "      <td>0</td>\n",
       "      <td>0</td>\n",
       "      <td>4583</td>\n",
       "      <td>1508.0</td>\n",
       "      <td>128.0</td>\n",
       "      <td>360.0</td>\n",
       "      <td>1.0</td>\n",
       "      <td>0</td>\n",
       "      <td>N</td>\n",
       "    </tr>\n",
       "    <tr>\n",
       "      <th>2</th>\n",
       "      <td>1</td>\n",
       "      <td>1</td>\n",
       "      <td>0.0</td>\n",
       "      <td>0</td>\n",
       "      <td>1</td>\n",
       "      <td>3000</td>\n",
       "      <td>0.0</td>\n",
       "      <td>66.0</td>\n",
       "      <td>360.0</td>\n",
       "      <td>1.0</td>\n",
       "      <td>2</td>\n",
       "      <td>Y</td>\n",
       "    </tr>\n",
       "    <tr>\n",
       "      <th>3</th>\n",
       "      <td>1</td>\n",
       "      <td>1</td>\n",
       "      <td>0.0</td>\n",
       "      <td>1</td>\n",
       "      <td>0</td>\n",
       "      <td>2583</td>\n",
       "      <td>2358.0</td>\n",
       "      <td>120.0</td>\n",
       "      <td>360.0</td>\n",
       "      <td>1.0</td>\n",
       "      <td>2</td>\n",
       "      <td>Y</td>\n",
       "    </tr>\n",
       "    <tr>\n",
       "      <th>4</th>\n",
       "      <td>1</td>\n",
       "      <td>0</td>\n",
       "      <td>0.0</td>\n",
       "      <td>0</td>\n",
       "      <td>0</td>\n",
       "      <td>6000</td>\n",
       "      <td>0.0</td>\n",
       "      <td>141.0</td>\n",
       "      <td>360.0</td>\n",
       "      <td>1.0</td>\n",
       "      <td>2</td>\n",
       "      <td>Y</td>\n",
       "    </tr>\n",
       "  </tbody>\n",
       "</table>\n",
       "</div>"
      ],
      "text/plain": [
       "   Gender  Married  Dependents  Education  Self_Employed  ApplicantIncome  \\\n",
       "0       1        0         0.0          0              0             5849   \n",
       "1       1        1         1.0          0              0             4583   \n",
       "2       1        1         0.0          0              1             3000   \n",
       "3       1        1         0.0          1              0             2583   \n",
       "4       1        0         0.0          0              0             6000   \n",
       "\n",
       "   CoapplicantIncome  LoanAmount  Loan_Amount_Term  Credit_History  \\\n",
       "0                0.0         NaN             360.0             1.0   \n",
       "1             1508.0       128.0             360.0             1.0   \n",
       "2                0.0        66.0             360.0             1.0   \n",
       "3             2358.0       120.0             360.0             1.0   \n",
       "4                0.0       141.0             360.0             1.0   \n",
       "\n",
       "   Property_Area Loan_Status  \n",
       "0              2           Y  \n",
       "1              0           N  \n",
       "2              2           Y  \n",
       "3              2           Y  \n",
       "4              2           Y  "
      ]
     },
     "execution_count": 18,
     "metadata": {},
     "output_type": "execute_result"
    }
   ],
   "source": [
    "Training_data.head()"
   ]
  },
  {
   "cell_type": "code",
   "execution_count": 19,
   "id": "ed725c59",
   "metadata": {},
   "outputs": [
    {
     "data": {
      "text/plain": [
       "Gender                 int32\n",
       "Married                int32\n",
       "Dependents           float64\n",
       "Education              int32\n",
       "Self_Employed          int32\n",
       "ApplicantIncome        int64\n",
       "CoapplicantIncome    float64\n",
       "LoanAmount           float64\n",
       "Loan_Amount_Term     float64\n",
       "Credit_History       float64\n",
       "Property_Area          int32\n",
       "Loan_Status           object\n",
       "dtype: object"
      ]
     },
     "execution_count": 19,
     "metadata": {},
     "output_type": "execute_result"
    }
   ],
   "source": [
    "Training_data.dtypes"
   ]
  },
  {
   "cell_type": "markdown",
   "id": "abd6f420",
   "metadata": {},
   "source": [
    "### Observation:-\n",
    "- Every categorical variable converted into Numerical variable by using label encoding."
   ]
  },
  {
   "cell_type": "markdown",
   "id": "07baee03",
   "metadata": {},
   "source": [
    "# 7) Data wrangling\n",
    "In this section, we will clean out our data based on the information retrieved from the previous observations.\n",
    "\n",
    "Hence, we will have to perform the following subtasks\n",
    "\n",
    "- Checking for missing values and manipulating them\n",
    "\n",
    "- Checking the datatypes\n",
    "\n",
    "- Checking of the Spelling Correction"
   ]
  },
  {
   "cell_type": "code",
   "execution_count": 20,
   "id": "3ef0a3a0",
   "metadata": {},
   "outputs": [
    {
     "data": {
      "text/plain": [
       "Gender                0\n",
       "Married               0\n",
       "Dependents           15\n",
       "Education             0\n",
       "Self_Employed         0\n",
       "ApplicantIncome       0\n",
       "CoapplicantIncome     0\n",
       "LoanAmount           22\n",
       "Loan_Amount_Term     14\n",
       "Credit_History       50\n",
       "Property_Area         0\n",
       "Loan_Status           0\n",
       "dtype: int64"
      ]
     },
     "execution_count": 20,
     "metadata": {},
     "output_type": "execute_result"
    }
   ],
   "source": [
    "g=Training_data.isnull().sum()\n",
    "g"
   ]
  },
  {
   "cell_type": "code",
   "execution_count": 21,
   "id": "6a48538e",
   "metadata": {},
   "outputs": [],
   "source": [
    "fill=[\"Dependents\",\"LoanAmount\",\"Loan_Amount_Term\",\"Credit_History\"]\n",
    "for t in fill:\n",
    "    Training_data[t].fillna(Training_data[t].mean(),inplace=True)"
   ]
  },
  {
   "cell_type": "code",
   "execution_count": 22,
   "id": "4aa0e823",
   "metadata": {},
   "outputs": [
    {
     "data": {
      "text/html": [
       "<div>\n",
       "<style scoped>\n",
       "    .dataframe tbody tr th:only-of-type {\n",
       "        vertical-align: middle;\n",
       "    }\n",
       "\n",
       "    .dataframe tbody tr th {\n",
       "        vertical-align: top;\n",
       "    }\n",
       "\n",
       "    .dataframe thead th {\n",
       "        text-align: right;\n",
       "    }\n",
       "</style>\n",
       "<table border=\"1\" class=\"dataframe\">\n",
       "  <thead>\n",
       "    <tr style=\"text-align: right;\">\n",
       "      <th></th>\n",
       "      <th>Gender</th>\n",
       "      <th>Married</th>\n",
       "      <th>Dependents</th>\n",
       "      <th>Education</th>\n",
       "      <th>Self_Employed</th>\n",
       "      <th>ApplicantIncome</th>\n",
       "      <th>CoapplicantIncome</th>\n",
       "      <th>LoanAmount</th>\n",
       "      <th>Loan_Amount_Term</th>\n",
       "      <th>Credit_History</th>\n",
       "      <th>Property_Area</th>\n",
       "      <th>Loan_Status</th>\n",
       "    </tr>\n",
       "  </thead>\n",
       "  <tbody>\n",
       "    <tr>\n",
       "      <th>0</th>\n",
       "      <td>1</td>\n",
       "      <td>0</td>\n",
       "      <td>0.0</td>\n",
       "      <td>0</td>\n",
       "      <td>0</td>\n",
       "      <td>5849</td>\n",
       "      <td>0.0</td>\n",
       "      <td>146.412162</td>\n",
       "      <td>360.0</td>\n",
       "      <td>1.0</td>\n",
       "      <td>2</td>\n",
       "      <td>Y</td>\n",
       "    </tr>\n",
       "    <tr>\n",
       "      <th>1</th>\n",
       "      <td>1</td>\n",
       "      <td>1</td>\n",
       "      <td>1.0</td>\n",
       "      <td>0</td>\n",
       "      <td>0</td>\n",
       "      <td>4583</td>\n",
       "      <td>1508.0</td>\n",
       "      <td>128.000000</td>\n",
       "      <td>360.0</td>\n",
       "      <td>1.0</td>\n",
       "      <td>0</td>\n",
       "      <td>N</td>\n",
       "    </tr>\n",
       "    <tr>\n",
       "      <th>2</th>\n",
       "      <td>1</td>\n",
       "      <td>1</td>\n",
       "      <td>0.0</td>\n",
       "      <td>0</td>\n",
       "      <td>1</td>\n",
       "      <td>3000</td>\n",
       "      <td>0.0</td>\n",
       "      <td>66.000000</td>\n",
       "      <td>360.0</td>\n",
       "      <td>1.0</td>\n",
       "      <td>2</td>\n",
       "      <td>Y</td>\n",
       "    </tr>\n",
       "    <tr>\n",
       "      <th>3</th>\n",
       "      <td>1</td>\n",
       "      <td>1</td>\n",
       "      <td>0.0</td>\n",
       "      <td>1</td>\n",
       "      <td>0</td>\n",
       "      <td>2583</td>\n",
       "      <td>2358.0</td>\n",
       "      <td>120.000000</td>\n",
       "      <td>360.0</td>\n",
       "      <td>1.0</td>\n",
       "      <td>2</td>\n",
       "      <td>Y</td>\n",
       "    </tr>\n",
       "    <tr>\n",
       "      <th>4</th>\n",
       "      <td>1</td>\n",
       "      <td>0</td>\n",
       "      <td>0.0</td>\n",
       "      <td>0</td>\n",
       "      <td>0</td>\n",
       "      <td>6000</td>\n",
       "      <td>0.0</td>\n",
       "      <td>141.000000</td>\n",
       "      <td>360.0</td>\n",
       "      <td>1.0</td>\n",
       "      <td>2</td>\n",
       "      <td>Y</td>\n",
       "    </tr>\n",
       "    <tr>\n",
       "      <th>...</th>\n",
       "      <td>...</td>\n",
       "      <td>...</td>\n",
       "      <td>...</td>\n",
       "      <td>...</td>\n",
       "      <td>...</td>\n",
       "      <td>...</td>\n",
       "      <td>...</td>\n",
       "      <td>...</td>\n",
       "      <td>...</td>\n",
       "      <td>...</td>\n",
       "      <td>...</td>\n",
       "      <td>...</td>\n",
       "    </tr>\n",
       "    <tr>\n",
       "      <th>609</th>\n",
       "      <td>0</td>\n",
       "      <td>0</td>\n",
       "      <td>0.0</td>\n",
       "      <td>0</td>\n",
       "      <td>0</td>\n",
       "      <td>2900</td>\n",
       "      <td>0.0</td>\n",
       "      <td>71.000000</td>\n",
       "      <td>360.0</td>\n",
       "      <td>1.0</td>\n",
       "      <td>0</td>\n",
       "      <td>Y</td>\n",
       "    </tr>\n",
       "    <tr>\n",
       "      <th>610</th>\n",
       "      <td>1</td>\n",
       "      <td>1</td>\n",
       "      <td>3.0</td>\n",
       "      <td>0</td>\n",
       "      <td>0</td>\n",
       "      <td>4106</td>\n",
       "      <td>0.0</td>\n",
       "      <td>40.000000</td>\n",
       "      <td>180.0</td>\n",
       "      <td>1.0</td>\n",
       "      <td>0</td>\n",
       "      <td>Y</td>\n",
       "    </tr>\n",
       "    <tr>\n",
       "      <th>611</th>\n",
       "      <td>1</td>\n",
       "      <td>1</td>\n",
       "      <td>1.0</td>\n",
       "      <td>0</td>\n",
       "      <td>0</td>\n",
       "      <td>8072</td>\n",
       "      <td>240.0</td>\n",
       "      <td>253.000000</td>\n",
       "      <td>360.0</td>\n",
       "      <td>1.0</td>\n",
       "      <td>2</td>\n",
       "      <td>Y</td>\n",
       "    </tr>\n",
       "    <tr>\n",
       "      <th>612</th>\n",
       "      <td>1</td>\n",
       "      <td>1</td>\n",
       "      <td>2.0</td>\n",
       "      <td>0</td>\n",
       "      <td>0</td>\n",
       "      <td>7583</td>\n",
       "      <td>0.0</td>\n",
       "      <td>187.000000</td>\n",
       "      <td>360.0</td>\n",
       "      <td>1.0</td>\n",
       "      <td>2</td>\n",
       "      <td>Y</td>\n",
       "    </tr>\n",
       "    <tr>\n",
       "      <th>613</th>\n",
       "      <td>0</td>\n",
       "      <td>0</td>\n",
       "      <td>0.0</td>\n",
       "      <td>0</td>\n",
       "      <td>1</td>\n",
       "      <td>4583</td>\n",
       "      <td>0.0</td>\n",
       "      <td>133.000000</td>\n",
       "      <td>360.0</td>\n",
       "      <td>0.0</td>\n",
       "      <td>1</td>\n",
       "      <td>N</td>\n",
       "    </tr>\n",
       "  </tbody>\n",
       "</table>\n",
       "<p>614 rows × 12 columns</p>\n",
       "</div>"
      ],
      "text/plain": [
       "     Gender  Married  Dependents  Education  Self_Employed  ApplicantIncome  \\\n",
       "0         1        0         0.0          0              0             5849   \n",
       "1         1        1         1.0          0              0             4583   \n",
       "2         1        1         0.0          0              1             3000   \n",
       "3         1        1         0.0          1              0             2583   \n",
       "4         1        0         0.0          0              0             6000   \n",
       "..      ...      ...         ...        ...            ...              ...   \n",
       "609       0        0         0.0          0              0             2900   \n",
       "610       1        1         3.0          0              0             4106   \n",
       "611       1        1         1.0          0              0             8072   \n",
       "612       1        1         2.0          0              0             7583   \n",
       "613       0        0         0.0          0              1             4583   \n",
       "\n",
       "     CoapplicantIncome  LoanAmount  Loan_Amount_Term  Credit_History  \\\n",
       "0                  0.0  146.412162             360.0             1.0   \n",
       "1               1508.0  128.000000             360.0             1.0   \n",
       "2                  0.0   66.000000             360.0             1.0   \n",
       "3               2358.0  120.000000             360.0             1.0   \n",
       "4                  0.0  141.000000             360.0             1.0   \n",
       "..                 ...         ...               ...             ...   \n",
       "609                0.0   71.000000             360.0             1.0   \n",
       "610                0.0   40.000000             180.0             1.0   \n",
       "611              240.0  253.000000             360.0             1.0   \n",
       "612                0.0  187.000000             360.0             1.0   \n",
       "613                0.0  133.000000             360.0             0.0   \n",
       "\n",
       "     Property_Area Loan_Status  \n",
       "0                2           Y  \n",
       "1                0           N  \n",
       "2                2           Y  \n",
       "3                2           Y  \n",
       "4                2           Y  \n",
       "..             ...         ...  \n",
       "609              0           Y  \n",
       "610              0           Y  \n",
       "611              2           Y  \n",
       "612              2           Y  \n",
       "613              1           N  \n",
       "\n",
       "[614 rows x 12 columns]"
      ]
     },
     "execution_count": 22,
     "metadata": {},
     "output_type": "execute_result"
    }
   ],
   "source": [
    "Training_data"
   ]
  },
  {
   "cell_type": "code",
   "execution_count": 23,
   "id": "55802753",
   "metadata": {},
   "outputs": [
    {
     "data": {
      "text/plain": [
       "Gender               0\n",
       "Married              0\n",
       "Dependents           0\n",
       "Education            0\n",
       "Self_Employed        0\n",
       "ApplicantIncome      0\n",
       "CoapplicantIncome    0\n",
       "LoanAmount           0\n",
       "Loan_Amount_Term     0\n",
       "Credit_History       0\n",
       "Property_Area        0\n",
       "Loan_Status          0\n",
       "dtype: int64"
      ]
     },
     "execution_count": 23,
     "metadata": {},
     "output_type": "execute_result"
    }
   ],
   "source": [
    "Training_data.isnull().sum()"
   ]
  },
  {
   "cell_type": "markdown",
   "id": "c5b459af",
   "metadata": {},
   "source": [
    "# 8) Separating Train and Test data\n",
    "The train-test split is used to estimate the performance of machine learning algorithms that are applicable for prediction-based Algorithms/Applications. **This method is a fast and easy procedure to perform such that we can compare our own machine learning model results to machine results.**"
   ]
  },
  {
   "cell_type": "code",
   "execution_count": 24,
   "id": "52608294",
   "metadata": {},
   "outputs": [],
   "source": [
    "# Train data has been separated  X and Y for prediction\n",
    "\n",
    "X=Training_data.drop([\"Loan_Status\"],axis=1)\n",
    "Y=Training_data[\"Loan_Status\"]"
   ]
  },
  {
   "cell_type": "code",
   "execution_count": 25,
   "id": "ae9d6f58",
   "metadata": {},
   "outputs": [],
   "source": [
    "# import libary for Train_test_split\n",
    "from sklearn.model_selection import train_test_split\n",
    "X_train,X_test,Y_train,y_test=train_test_split(X,Y,test_size=0.25,random_state=45)"
   ]
  },
  {
   "cell_type": "code",
   "execution_count": 26,
   "id": "67f27409",
   "metadata": {},
   "outputs": [
    {
     "data": {
      "text/plain": [
       "((460, 11), (154, 11), (460,), (154,))"
      ]
     },
     "execution_count": 26,
     "metadata": {},
     "output_type": "execute_result"
    }
   ],
   "source": [
    "X_train.shape,X_test.shape,Y_train.shape,y_test.shape"
   ]
  },
  {
   "attachments": {
    "download.png": {
     "image/png": "[encoded data removed]"
    }
   },
   "cell_type": "markdown",
   "id": "18182471",
   "metadata": {},
   "source": [
    "![download.png](attachment:download.png)"
   ]
  },
  {
   "cell_type": "markdown",
   "id": "fa27aeb3",
   "metadata": {},
   "source": [
    "# 9)  Modeling the Train_data :-\n",
    "### Define a baseline model\n",
    "A baseline model is essentially a simple model that acts as a reference in a machine learning project. Its main function is to contextualize the results of trained models. Baseline models usually lack complexity and may have little predictive power."
   ]
  },
  {
   "cell_type": "code",
   "execution_count": 27,
   "id": "80a70b1e",
   "metadata": {},
   "outputs": [],
   "source": [
    "from sklearn.neighbors import KNeighborsClassifier\n",
    "from sklearn.ensemble import RandomForestClassifier\n",
    "from sklearn.svm import SVC\n",
    "from sklearn.linear_model import LogisticRegression\n",
    "from sklearn.metrics import confusion_matrix"
   ]
  },
  {
   "cell_type": "code",
   "execution_count": 28,
   "id": "ffbe047c",
   "metadata": {},
   "outputs": [
    {
     "name": "stdout",
     "output_type": "stream",
     "text": [
      "Model Name :  KNeighborsClassifier\n",
      "Train data Score : 0.7652173913043478\n",
      "Test data Score : 0.5974025974025974\n",
      "Model Name :  RandomForestClassifier\n",
      "Train data Score : 1.0\n",
      "Test data Score : 0.7532467532467533\n",
      "Model Name :  SVC\n",
      "Train data Score : 0.7065217391304348\n",
      "Test data Score : 0.6493506493506493\n",
      "Model Name :  LogisticRegression\n",
      "Train data Score : 0.8217391304347826\n",
      "Test data Score : 0.7792207792207793\n"
     ]
    }
   ],
   "source": [
    "Classi=[KNeighborsClassifier(n_neighbors=5),RandomForestClassifier(),SVC(),LogisticRegression()]\n",
    "Overall_models_performance=[]\n",
    "\n",
    "for u in Classi:\n",
    "# Importing the model name\n",
    "    Model_name=type(u).__name__\n",
    "\n",
    "# Fitting the model into train data\n",
    "    u.fit(X_train,Y_train)\n",
    "    \n",
    "# Predicting the train data by using model\n",
    "    Y_pred_train=u.predict(X_train)\n",
    "    \n",
    "# Predicting the test data by using model\n",
    "    Y_pred_test=u.predict(X_test)\n",
    "    \n",
    "# Calculating train accuracy\n",
    "    Train_data_score=u.score(X_train,Y_train)\n",
    "    \n",
    "# Caculating test accuracy\n",
    "    Test_data_score=u.score(X_test,y_test)\n",
    "    \n",
    "\n",
    "    \n",
    "    \n",
    "    print(\"Model Name : \",Model_name)\n",
    "    \n",
    "    print(\"Train data Score :\",Train_data_score)\n",
    "    \n",
    "    print(\"Test data Score :\", Test_data_score)"
   ]
  },
  {
   "cell_type": "markdown",
   "id": "a37796b5",
   "metadata": {},
   "source": [
    "### Observation:-\n",
    "- **Logistic Regression** is the best accuracy scorer among the models.It has 82% of accuracy in train data and 77% of accuracy in test data.\n",
    "- RandomforestClassifier gives the best accuracy score and **Low Basis and low variance (low overfitting)** among the models.So the RandomForestClassifier is used for the **Hyperparameter tuning**.\n",
    "- KneighborsClassifier and RandomForest classifier has the **Low Basis and High variance(Overfitting)**."
   ]
  },
  {
   "cell_type": "markdown",
   "id": "cba96c09",
   "metadata": {},
   "source": [
    "## Find out the test data is balanced or Unbalanced?"
   ]
  },
  {
   "cell_type": "code",
   "execution_count": 29,
   "id": "1f56ddd0",
   "metadata": {},
   "outputs": [
    {
     "data": {
      "text/plain": [
       "Y    100\n",
       "N     54\n",
       "Name: Loan_Status, dtype: int64"
      ]
     },
     "execution_count": 29,
     "metadata": {},
     "output_type": "execute_result"
    }
   ],
   "source": [
    "y_test.value_counts()"
   ]
  },
  {
   "cell_type": "markdown",
   "id": "79289ea0",
   "metadata": {},
   "source": [
    "### Observation:-\n",
    "- From thr above value_counts statement,65% data lies on the \"YES\" and 35% of the lies on the \"NO\".\n",
    "- So the data consider as a **Unbalanced data**.\n",
    "- So thr confusion Matrix,Precision and Recall classifier are used to find the accuracy."
   ]
  },
  {
   "cell_type": "markdown",
   "id": "6801cc1b",
   "metadata": {},
   "source": [
    "### 1) Confusion Matrix:\n",
    "It gives us a summary of correct and incorrect predictions broken down by each category. The summary is represented in a tabular form."
   ]
  },
  {
   "cell_type": "code",
   "execution_count": 52,
   "id": "24437103",
   "metadata": {},
   "outputs": [
    {
     "name": "stdout",
     "output_type": "stream",
     "text": [
      "Perform the confusion matrix of the test data : [[ 20   0]\n",
      " [ 34 100]]\n",
      "Perform the confusion matrix of the train data ; [[ 64   8]\n",
      " [ 74 314]]\n"
     ]
    }
   ],
   "source": [
    "# Create a Logistic Regression model\n",
    "LogR=LogisticRegression(C=100, solver='liblinear', random_state=0)\n",
    "\n",
    "# fitting the train dataset\n",
    "LogR.fit(X_train,Y_train)\n",
    "\n",
    "# Predict the test data \n",
    "y_pre_test=LogR.predict(X_test)\n",
    "\n",
    "# Predict the train data\n",
    "y_pre_train=LogR.predict(X_train)\n",
    "\n",
    "# Perform the confusion matrix of the test data\n",
    "cm=confusion_matrix(y_pre_test,y_test)\n",
    "\n",
    "# Perform the confusion matrix of the train data\n",
    "cmt=confusion_matrix(y_pre_train,Y_train)\n",
    "\n",
    "print(\"Perform the confusion matrix of the test data :\",cm)\n",
    "\n",
    "print(\"Perform the confusion matrix of the train data ;\",cmt)"
   ]
  },
  {
   "cell_type": "markdown",
   "id": "2546a64e",
   "metadata": {},
   "source": [
    "### Observation:\n",
    "- **Actual positive/Predicted Positive** of the predicted test data 20 out of 54.\n",
    "- **Actual Negative/Predicted Negative** of the predicted test data 100 out of 100"
   ]
  },
  {
   "cell_type": "code",
   "execution_count": 31,
   "id": "8dc42497",
   "metadata": {},
   "outputs": [
    {
     "data": {
      "text/html": [
       "<div>\n",
       "<style scoped>\n",
       "    .dataframe tbody tr th:only-of-type {\n",
       "        vertical-align: middle;\n",
       "    }\n",
       "\n",
       "    .dataframe tbody tr th {\n",
       "        vertical-align: top;\n",
       "    }\n",
       "\n",
       "    .dataframe thead th {\n",
       "        text-align: right;\n",
       "    }\n",
       "</style>\n",
       "<table border=\"1\" class=\"dataframe\">\n",
       "  <thead>\n",
       "    <tr style=\"text-align: right;\">\n",
       "      <th></th>\n",
       "      <th>Actual Positive:1</th>\n",
       "      <th>Actual Negative:0</th>\n",
       "    </tr>\n",
       "  </thead>\n",
       "  <tbody>\n",
       "    <tr>\n",
       "      <th>Predict Positive:1</th>\n",
       "      <td>20</td>\n",
       "      <td>0</td>\n",
       "    </tr>\n",
       "    <tr>\n",
       "      <th>Predict Negative:0</th>\n",
       "      <td>34</td>\n",
       "      <td>100</td>\n",
       "    </tr>\n",
       "  </tbody>\n",
       "</table>\n",
       "</div>"
      ],
      "text/plain": [
       "                    Actual Positive:1  Actual Negative:0\n",
       "Predict Positive:1                 20                  0\n",
       "Predict Negative:0                 34                100"
      ]
     },
     "execution_count": 31,
     "metadata": {},
     "output_type": "execute_result"
    }
   ],
   "source": [
    "cm_matrix = pd.DataFrame(data=cm, columns=['Actual Positive:1', 'Actual Negative:0'], \n",
    "                                 index=['Predict Positive:1', 'Predict Negative:0'])\n",
    "\n",
    "cm_matrix"
   ]
  },
  {
   "cell_type": "code",
   "execution_count": 32,
   "id": "e632e506",
   "metadata": {},
   "outputs": [
    {
     "data": {
      "text/plain": [
       "<AxesSubplot:>"
      ]
     },
     "execution_count": 32,
     "metadata": {},
     "output_type": "execute_result"
    },
    {
     "data": {
      "image/png": "[encoded data removed]",
      "text/plain": [
       "<Figure size 432x288 with 2 Axes>"
      ]
     },
     "metadata": {
      "needs_background": "light"
     },
     "output_type": "display_data"
    }
   ],
   "source": [
    "sns.heatmap(cm_matrix,annot=True)"
   ]
  },
  {
   "cell_type": "markdown",
   "id": "c5518d9d",
   "metadata": {},
   "source": [
    "### 2) Precision\n",
    " **Precision** identifies the proportion of **correctly predicted positive outcome**. It is more concerned with the positive class than the negative class.\n"
   ]
  },
  {
   "cell_type": "code",
   "execution_count": 33,
   "id": "2f183d36",
   "metadata": {},
   "outputs": [],
   "source": [
    "TP = cm[0,0]\n",
    "TN = cm[1,1]\n",
    "FP = cm[0,1]\n",
    "FN = cm[1,0]"
   ]
  },
  {
   "cell_type": "code",
   "execution_count": 34,
   "id": "5e2f6c0e",
   "metadata": {},
   "outputs": [
    {
     "name": "stdout",
     "output_type": "stream",
     "text": [
      "Precision_score : 1.00\n"
     ]
    }
   ],
   "source": [
    "precision = TP / float(TP + FP)\n",
    "\n",
    "print(\"Precision_score : {0:0.2f}\".format(precision))"
   ]
  },
  {
   "cell_type": "markdown",
   "id": "ba832c7b",
   "metadata": {},
   "source": [
    "### 3) Recall\n",
    "**Recall** can be defined as **the percentage of correctly predicted positive outcomes out of all the actual positive outcomes**.\n",
    "Recall is also called **Sensitivity**."
   ]
  },
  {
   "cell_type": "code",
   "execution_count": 35,
   "id": "7b79d85d",
   "metadata": {},
   "outputs": [
    {
     "name": "stdout",
     "output_type": "stream",
     "text": [
      "Recall_score : 0.37\n"
     ]
    }
   ],
   "source": [
    "recall = TP / float(TP + FN)\n",
    "\n",
    "print(\"Recall_score : {0:0.2f}\".format(recall))"
   ]
  },
  {
   "cell_type": "code",
   "execution_count": null,
   "id": "f166caaf",
   "metadata": {},
   "outputs": [],
   "source": []
  },
  {
   "cell_type": "markdown",
   "id": "0f5977e7",
   "metadata": {},
   "source": [
    "## Hyperparameters Tuning:\n",
    "Hyperparameters are parameters whose values control the learning process and determine the values of model parameters that a learning algorithm ends up learning and also used to find out the best model.\n",
    "\n",
    "- We will be using GridSearchCV in order to find the best values.\n",
    "\n",
    "- We will consider LogisticRegression as they have given best results"
   ]
  },
  {
   "cell_type": "code",
   "execution_count": 36,
   "id": "bcf5495c",
   "metadata": {},
   "outputs": [],
   "source": [
    "param_grid = {'penalty':['l1','l2'], \n",
    "              'C':[1, 10, 100, 1000]}"
   ]
  },
  {
   "cell_type": "code",
   "execution_count": 37,
   "id": "2890861b",
   "metadata": {},
   "outputs": [
    {
     "data": {
      "text/plain": [
       "GridSearchCV(cv=5,\n",
       "             estimator=LogisticRegression(C=100, random_state=0,\n",
       "                                          solver='liblinear'),\n",
       "             param_grid={'C': [1, 10, 100, 1000], 'penalty': ['l1', 'l2']},\n",
       "             scoring='accuracy')"
      ]
     },
     "execution_count": 37,
     "metadata": {},
     "output_type": "execute_result"
    }
   ],
   "source": [
    "\n",
    "model=GridSearchCV(estimator =LogR, param_grid = param_grid,scoring = 'accuracy',cv = 5,verbose=0)\n",
    "\n",
    "model.fit(X_train,Y_train)\n",
    "\n"
   ]
  },
  {
   "cell_type": "code",
   "execution_count": 38,
   "id": "e0dff169",
   "metadata": {},
   "outputs": [],
   "source": [
    "Y_pred=model.predict(X_test)"
   ]
  },
  {
   "cell_type": "code",
   "execution_count": 39,
   "id": "08bf1992",
   "metadata": {},
   "outputs": [
    {
     "name": "stdout",
     "output_type": "stream",
     "text": [
      "[Hyperparameters]: {'C': 10, 'penalty': 'l1'}\n",
      "[Train Score]: 0.8195652173913045\n",
      "[Validation train Score]: 0.8260869565217391\n",
      "[Validation test Score]: 0.7792207792207793\n"
     ]
    }
   ],
   "source": [
    "\n",
    "# Printing metrics\n",
    "print(\"[Hyperparameters]:\", model.best_params_)\n",
    "print(\"[Train Score]:\",model.best_score_)\n",
    "print(\"[Validation train Score]:\", model.score(X_train,\n",
    "                                      Y_train))\n",
    "print(\"[Validation test Score]:\", model.score(X_test,\n",
    "                                      y_test))"
   ]
  },
  {
   "cell_type": "markdown",
   "id": "d3f3daa9",
   "metadata": {},
   "source": [
    "### Observation:\n",
    "After **Hyperparameters tunnig** the model score has been changed slightly from **82.1% to 82.6%**,so this model is best for predicting the unseen data."
   ]
  },
  {
   "cell_type": "markdown",
   "id": "2ffb2376",
   "metadata": {},
   "source": [
    "# 10) Test data:-\n"
   ]
  },
  {
   "cell_type": "code",
   "execution_count": 40,
   "id": "f6b89e26",
   "metadata": {},
   "outputs": [],
   "source": [
    "# Best model for test data\n",
    "Model=model.best_estimator_"
   ]
  },
  {
   "cell_type": "code",
   "execution_count": 41,
   "id": "659a8dcc",
   "metadata": {},
   "outputs": [],
   "source": [
    "# Drop the Loan_ID feature from test data\n",
    "test_datas.drop([\"Loan_ID\"],inplace=True,axis=1)\n",
    "\n",
    "\n",
    "\n",
    "# Label Encoder for Categorical variables in Test data \n",
    "from sklearn.preprocessing import LabelEncoder\n",
    "Label=LabelEncoder()\n",
    "gm=[\"Gender\",\"Married\",\"Education\",\"Self_Employed\",\"Property_Area\"]\n",
    "for i in gm:\n",
    "    test_datas[i]=Label.fit_transform(test_datas[i])\n",
    "    \n",
    "    \n",
    "    \n",
    "    \n",
    "# Fill the missing value in Test data   \n",
    "fill=[\"Dependents\",\"LoanAmount\",\"Loan_Amount_Term\",\"Credit_History\"]\n",
    "for t in fill:\n",
    "    test_datas[t].fillna(test_datas[t].mean(),inplace=True)\n",
    "\n"
   ]
  },
  {
   "cell_type": "markdown",
   "id": "81091977",
   "metadata": {},
   "source": [
    "# 11) Submission file:-"
   ]
  },
  {
   "cell_type": "code",
   "execution_count": 42,
   "id": "6410c8cb",
   "metadata": {},
   "outputs": [
    {
     "data": {
      "text/plain": [
       "LogisticRegression(C=10, penalty='l1', random_state=0, solver='liblinear')"
      ]
     },
     "execution_count": 42,
     "metadata": {},
     "output_type": "execute_result"
    }
   ],
   "source": [
    "\n",
    "# Implementing the best Model\n",
    "Model.fit(X_train,Y_train)"
   ]
  },
  {
   "cell_type": "code",
   "execution_count": 43,
   "id": "c3ab6c02",
   "metadata": {},
   "outputs": [],
   "source": [
    "# Predictind the final test data by best model\n",
    "Y_pred_final_test=Model.predict(test_datas)"
   ]
  },
  {
   "cell_type": "code",
   "execution_count": 45,
   "id": "77a573f1",
   "metadata": {},
   "outputs": [],
   "source": [
    "Submission_file=pd.DataFrame({\"Loan_ID\":Final_datas[\"Loan_ID\"],\"Loan_Status\":Y_pred_final_test})"
   ]
  },
  {
   "cell_type": "code",
   "execution_count": 46,
   "id": "fe552543",
   "metadata": {},
   "outputs": [
    {
     "data": {
      "text/html": [
       "<div>\n",
       "<style scoped>\n",
       "    .dataframe tbody tr th:only-of-type {\n",
       "        vertical-align: middle;\n",
       "    }\n",
       "\n",
       "    .dataframe tbody tr th {\n",
       "        vertical-align: top;\n",
       "    }\n",
       "\n",
       "    .dataframe thead th {\n",
       "        text-align: right;\n",
       "    }\n",
       "</style>\n",
       "<table border=\"1\" class=\"dataframe\">\n",
       "  <thead>\n",
       "    <tr style=\"text-align: right;\">\n",
       "      <th></th>\n",
       "      <th>Loan_ID</th>\n",
       "      <th>Loan_Status</th>\n",
       "    </tr>\n",
       "  </thead>\n",
       "  <tbody>\n",
       "    <tr>\n",
       "      <th>0</th>\n",
       "      <td>LP001015</td>\n",
       "      <td>Y</td>\n",
       "    </tr>\n",
       "    <tr>\n",
       "      <th>1</th>\n",
       "      <td>LP001022</td>\n",
       "      <td>Y</td>\n",
       "    </tr>\n",
       "    <tr>\n",
       "      <th>2</th>\n",
       "      <td>LP001031</td>\n",
       "      <td>Y</td>\n",
       "    </tr>\n",
       "    <tr>\n",
       "      <th>3</th>\n",
       "      <td>LP001035</td>\n",
       "      <td>Y</td>\n",
       "    </tr>\n",
       "    <tr>\n",
       "      <th>4</th>\n",
       "      <td>LP001051</td>\n",
       "      <td>Y</td>\n",
       "    </tr>\n",
       "    <tr>\n",
       "      <th>...</th>\n",
       "      <td>...</td>\n",
       "      <td>...</td>\n",
       "    </tr>\n",
       "    <tr>\n",
       "      <th>362</th>\n",
       "      <td>LP002971</td>\n",
       "      <td>Y</td>\n",
       "    </tr>\n",
       "    <tr>\n",
       "      <th>363</th>\n",
       "      <td>LP002975</td>\n",
       "      <td>Y</td>\n",
       "    </tr>\n",
       "    <tr>\n",
       "      <th>364</th>\n",
       "      <td>LP002980</td>\n",
       "      <td>Y</td>\n",
       "    </tr>\n",
       "    <tr>\n",
       "      <th>365</th>\n",
       "      <td>LP002986</td>\n",
       "      <td>Y</td>\n",
       "    </tr>\n",
       "    <tr>\n",
       "      <th>366</th>\n",
       "      <td>LP002989</td>\n",
       "      <td>Y</td>\n",
       "    </tr>\n",
       "  </tbody>\n",
       "</table>\n",
       "<p>367 rows × 2 columns</p>\n",
       "</div>"
      ],
      "text/plain": [
       "      Loan_ID Loan_Status\n",
       "0    LP001015           Y\n",
       "1    LP001022           Y\n",
       "2    LP001031           Y\n",
       "3    LP001035           Y\n",
       "4    LP001051           Y\n",
       "..        ...         ...\n",
       "362  LP002971           Y\n",
       "363  LP002975           Y\n",
       "364  LP002980           Y\n",
       "365  LP002986           Y\n",
       "366  LP002989           Y\n",
       "\n",
       "[367 rows x 2 columns]"
      ]
     },
     "execution_count": 46,
     "metadata": {},
     "output_type": "execute_result"
    }
   ],
   "source": [
    "Submission_file"
   ]
  },
  {
   "cell_type": "code",
   "execution_count": 53,
   "id": "1a89556a",
   "metadata": {},
   "outputs": [],
   "source": [
    "Submission_file.to_csv(\"Submission_files19.csv\")"
   ]
  },
  {
   "cell_type": "markdown",
   "id": "b720431e",
   "metadata": {},
   "source": [
    "# Conclusion:-\n",
    "From the above problem statement the given test data has been predicted by using **logistic Regression** model. The hyperparameter tuning od GridSearchCV has been used to provide a best model.\n"
   ]
  },
  {
   "cell_type": "code",
   "execution_count": null,
   "id": "986f836f",
   "metadata": {},
   "outputs": [],
   "source": []
  }
 ],
 "metadata": {
  "kernelspec": {
   "display_name": "Python 3 (ipykernel)",
   "language": "python",
   "name": "python3"
  },
  "language_info": {
   "codemirror_mode": {
    "name": "ipython",
    "version": 3
   },
   "file_extension": ".py",
   "mimetype": "text/x-python",
   "name": "python",
   "nbconvert_exporter": "python",
   "pygments_lexer": "ipython3",
   "version": "3.9.12"
  }
 },
 "nbformat": 4,
 "nbformat_minor": 5
}
